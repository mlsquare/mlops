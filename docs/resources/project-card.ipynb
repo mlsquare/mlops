{
 "cells": [
  {
   "cell_type": "markdown",
   "metadata": {},
   "source": [
    "# Project Card\n",
    "\n",
    "A project card builds on the idea of [AI-Canvas]((https://hbr.org/2018/04/a-simple-tool-to-start-making-decisions-with-the-help-of-ai) and [Project Canvas]([Project Canvas](https://madewithml.com/courses/mlops/product-design/#template)."
   ]
  }
 ],
 "metadata": {
  "language_info": {
   "name": "python"
  }
 },
 "nbformat": 4,
 "nbformat_minor": 2
}
