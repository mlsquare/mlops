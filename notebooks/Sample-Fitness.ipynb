{
 "cells": [
  {
   "cell_type": "markdown",
   "metadata": {},
   "source": [
    "# Sample Fitness\n",
    "We will look at dataset difficulty and sample perplexity using Iris data.\n",
    "\n",
    "Iris is a relative easy dataset. We will pick two features, and pick _versicolor_ and _virginica_ lables as there seems to be some overalp in the feature space. We will look at this two dimensional data from many angles and see what can we learn about\n",
    "\n",
    "See [Sample Hardness notebook](./Sample-Hardness.ipynb) for prior work. We will build from there."
   ]
  },
  {
   "cell_type": "code",
   "execution_count": 10,
   "metadata": {},
   "outputs": [],
   "source": [
    "from sklearn.datasets import load_iris\n",
    "import matplotlib.pyplot as plt\n",
    "\n",
    "iris = load_iris()\n",
    "y = iris.target\n",
    "ind = (y==1) | (y==2)\n",
    "X = iris.data[ind, 0:2]\n",
    "y = y[ind]-1"
   ]
  },
  {
   "cell_type": "markdown",
   "metadata": {},
   "source": [
    "We will build a simple logistic model and calculate the deviance between two models given data. This idea is intimately tied to likelihood ratio tests (LRT), Bayes Factors."
   ]
  },
  {
   "cell_type": "code",
   "execution_count": 11,
   "metadata": {},
   "outputs": [
    {
     "name": "stdout",
     "output_type": "stream",
     "text": [
      "Optimization terminated successfully.\n",
      "         Current function value: 0.667806\n",
      "         Iterations 5\n",
      "                           Logit Regression Results                           \n",
      "==============================================================================\n",
      "Dep. Variable:                      y   No. Observations:                   80\n",
      "Model:                          Logit   Df Residuals:                       78\n",
      "Method:                           MLE   Df Model:                            1\n",
      "Date:                Sun, 15 Sep 2024   Pseudo R-squ.:                 0.03482\n",
      "Time:                        17:04:38   Log-Likelihood:                -53.424\n",
      "converged:                       True   LL-Null:                       -55.352\n",
      "Covariance Type:            nonrobust   LLR p-value:                   0.04961\n",
      "==============================================================================\n",
      "                 coef    std err          z      P>|z|      [0.025      0.975]\n",
      "------------------------------------------------------------------------------\n",
      "x1             0.6830      0.377      1.811      0.070      -0.056       1.422\n",
      "x2            -1.4199      0.815     -1.742      0.082      -3.018       0.178\n",
      "==============================================================================\n"
     ]
    }
   ],
   "source": [
    "from sklearn.model_selection import train_test_split\n",
    "X_train, X_test, y_train, y_test = train_test_split(X,y, test_size=0.2, random_state=128)\n",
    "\n",
    "\n",
    "import statsmodels.api as sm\n",
    "import matplotlib.pyplot as plt\n",
    "\n",
    "\n",
    "model = sm.Logit(y_train, X_train).fit()\n",
    "print(model.summary())"
   ]
  },
  {
   "cell_type": "markdown",
   "metadata": {},
   "source": [
    "### Likelihood\n",
    "\n",
    "The model summary contains many useful statistics like Log-Likelihood, LL-Null and LLR p-value. Let us explore what these different objects."
   ]
  },
  {
   "cell_type": "markdown",
   "metadata": {},
   "source": [
    "The generative model for Logistic regression can be written like as follows:\n",
    "\n",
    "$$y_i \\sim Binomial(1,\\pi_i) \\\\\n",
    "\\log \\left(\\frac{\\pi_i}{1-\\pi_i} \\right) = x_i^T\\beta$$\n",
    "where $y_i \\in {0,1}$ is the binary response drawn from a Bernoulli trial with $P(y_i=1)=\\pi_i$, $x_i$ is a $p \\times 1 $ vector of input features, $\\beta$ is a vector of $p \\times 1$ coefficients (weights).\n",
    "\n",
    "The likelihood of $n$ examples (from a training set) can be written as:\n",
    "$$\\ell(\\beta, D) = \\sum_{i=1}^{n} y_i \\log(\\pi_i) + (1-y_i) \\log(1-\\pi_i)$$ \n",
    "where $D = \\{x_i, y_i\\}_{i=1}^{n}$ represents all the data available to fit (train) the model, and $\\pi_i$ is as defined earlier. \n",
    "\n",
    "Typically, log likelihood $\\log(\\ell)$ is reported. One can see that, cross-entropy is the negative log-likelihood for this problem. By following this procedure, we can come up new loss functions - define the loss as the negative log-likelihood.\n",
    "\n",
    "\n",
    "\n",
    "\n"
   ]
  },
  {
   "cell_type": "code",
   "execution_count": 12,
   "metadata": {},
   "outputs": [
    {
     "name": "stdout",
     "output_type": "stream",
     "text": [
      "log likelihood -53.424489860304064\n"
     ]
    }
   ],
   "source": [
    "# log likelihood \n",
    "print('log likelihood', model.llf)\n"
   ]
  },
  {
   "cell_type": "markdown",
   "metadata": {},
   "source": [
    "### AIC\n",
    "\n",
    "AIC is defined as $2p - 2 \\ln(\\hat{\\ell})$ where $p$ is the number of parameters, and $\\hat{\\ell}$ is the log-likelihood evaluated at the estimated model parameters. The correction factor or penalty term $2p$ penalizes complex models. AIC is often used in model comparison. Smaller the AIC, better is the fit to the data. Complex models are more penalized, of course.\n",
    "\n",
    "Cross-Validation is a very popular hyper parameter tuning technique among ML community. It is worth noting that, asymptotically, AIC and LOOCV (Leave-one-out Cross Validation) are equivalent. See [An Asymptotic Equivalence of Choice of Model by Cross Validation and Akaike's Criterion](https://www.jstor.org/stable/2984877)[1977]."
   ]
  },
  {
   "cell_type": "code",
   "execution_count": 13,
   "metadata": {},
   "outputs": [
    {
     "name": "stdout",
     "output_type": "stream",
     "text": [
      "aic 110.84897972060813\n"
     ]
    }
   ],
   "source": [
    "# AIC\n",
    "print('aic', model.aic)"
   ]
  },
  {
   "cell_type": "markdown",
   "metadata": {},
   "source": [
    "### LLR and Deviance\n",
    "\n",
    "The simplest model one can fit to the data is to not have any features or just fit an intercept model. Then, we have two models\n",
    "$M_r \\equiv \\log \\left(\\frac{\\pi_i}{1-\\pi_i} \\right) = \\beta_0$ where $\\beta_0$ is the intercept term and no features are in the model. Here $M_r$ stands for the _reduced_ model. \n",
    "\n",
    "Whereas $M_f \\equiv \\log \\left(\\frac{\\pi_i}{1-\\pi_i} \\right) = x_i^T\\beta$ defined earlier is the full model, meaning, all features are used in the model and perhaps, this is the best in the model class available _like_ an Oracle. One may say, $M_r \\subset M_f $ when set of $x_i$ includes the constant $1$ as one of the features and both $M_r$ and $M_f$ belong to the same model class. The difference in the log-likelihoods is a useful indicator of how large the discrepancy between $M_r$ and $M_f$ is. \n",
    "\n",
    "The Log-likelihood Ratio (LLR) is a statistic that computes this quantity:\n",
    "\n",
    "$$LLR(M_r, M_f) = \\log\\left( \\frac{\\ell(M_r;D)}{\\ell(M_f;D)} \\right) = \\log(\\ell(M_r;D))-\\log(\\ell(M_f;D))$$\n",
    "\n",
    "\n"
   ]
  },
  {
   "cell_type": "code",
   "execution_count": 16,
   "metadata": {},
   "outputs": [
    {
     "name": "stdout",
     "output_type": "stream",
     "text": [
      "LLR 3.8544857609679326\n"
     ]
    }
   ],
   "source": [
    "# LLR\n",
    "print('LLR', model.llr)"
   ]
  },
  {
   "cell_type": "markdown",
   "metadata": {},
   "source": [
    "LLR expressed differently with a scaling factor is known as the Deviance defined as:\n",
    "$$D(M_r, M_f) = -2 \\left[\\log(\\ell(M_r;D))-\\log(\\ell(M_f;D))\\right]$$\n",
    "\n",
    "Asymptotically, Deviance follows a $\\chi^2$ distribution with $p$ degrees of freedom (which is the difference in the parameters between the full and the reduced models). So, we can see how useful the predictors are in $M_f$ compared to $M_r$. The evidence can be expressed in terms of p-value. "
   ]
  },
  {
   "cell_type": "code",
   "execution_count": 17,
   "metadata": {},
   "outputs": [
    {
     "name": "stdout",
     "output_type": "stream",
     "text": [
      "LLR Test 0.04961313336509171\n"
     ]
    }
   ],
   "source": [
    "# Wald's LLR test\n",
    "\n",
    "print('LLR Test', model.llr_pvalue)"
   ]
  },
  {
   "cell_type": "markdown",
   "metadata": {},
   "source": [
    "We reject the null (i.e. prefer $M_f$, a more complex model over a simpler model $M_r$) at type-1 error rate $\\alpha$ if $p_{val} < \\alpha$. Typical choice for $\\alpha$ is 0.05.\n",
    "\n"
   ]
  },
  {
   "cell_type": "markdown",
   "metadata": {},
   "source": [
    "### $\\nu\\text{-information criteria}$\n",
    "\n",
    "At the core of this procedure is a way to, given the same data, compare two different models. Generally, one model will be simpler than the other. This idea is recently explored in the paper [Understanding Dataset Difficulty with $\\nu$-Usable Information](https://arxiv.org/abs/2110.08420). The motivation for the authors was different, however. They want to characterize the dataset difficulty.\n",
    "\n",
    "The paper introduces two new information-theoretic measures called $\\nu\\text{-information}$ denoted as $I_{\\mathcal{V}}(X \\rightarrow Y)$ and $\\text{pointwise }\\nu\\text{-information}$ denoted as $\\text{PVI}(x \\rightarrow y)$. Note that $I_{\\mathcal{V}}(X \\rightarrow Y) = \\mathcal{E}_{x,y \\sim P(X,Y)}[PVI(x,y)]$.\n",
    "\n",
    "Please see the paper for definitions and the treatment. But informally, from information theory point of view,  $\\nu\\text{-information}$ is the information gain due to conditioning (observing X). As a matter of fact, it closely resembles mutual information $I(X,Y) = H(Y)-H(Y|X)$ where $H(X)$ is the entropy of $Y$ and $H(Y|X)$ is the conditional (on $X$) entropy of $Y$. But the difference is in how $X$ and $Y$ are related.  $\\nu\\text{-information}$ restricts the mappings $f: X \\rightarrow Y$ to the admissable class of functions that can be learnt under the hypothesis class $\\mathcal{V}$ and not _any_ function which is used in classical mutual information (in fact, it is not specified).\n",
    "\n",
    "The procedure to estimate $\\nu\\text{-information}$ is given in **Algorithm 1**. After adapting the notations,  $PVI$ and $\\nu\\text{-information}$ can be estimated from data as:  \n",
    "$$\n",
    "\\hat{PVI}(x_i,y_i) =  -\\log \\hat{\\ell}(M_r; x_i,y_i) + \\log \\hat{\\ell}(M_f; x_i,y_i)\\\\ \n",
    "\\hat{I}_{M_r,M_f}(X \\rightarrow Y) = \\sum_{i=1}^{n} \\hat{PVI}(x_i,y_i)\n",
    "$$.\n",
    "\n",
    "If we scale it appropriately, we notice that, $D(M_r,M_f) = 2I_{M_r,M_f}(X \\rightarrow Y)$. So, the $I_{\\mathcal{V}}(X \\rightarrow Y)$ is actually $LLR$ with an information theoretic lense, applied to modern deep learning context, more specifically to LLMs.\n",
    "\n",
    "$PVI$ was used to identify mislabelled examples. Across datasets, and training regimes, examples with high $PVI$ are generally accurate and low $PVI$ examples are not. This suggests that one can use $PVI$ to define the confidence in the predictions.\n",
    "\n",
    "It is to be noted that the connection between Likelihood and Information Theory is not new. Prof. Manny Parzen's works have demonstrated this connection between in Goodness-of-Fit Tests and Entropy. See for example, [Entropy Interpretation of Goodness of Fit Tests](https://apps.dtic.mil/sti/tr/pdf/ADA125155.pdf)(1983) and [Goodness of Fit tests and Entropy](https://apps.dtic.mil/sti/tr/pdf/ADA224860.pdf)(1990). Indeed, LLR is a Goodness-of-Fit Test and _statsmodel_ API gives p-vlaue for this test, as we have seen before.\n",
    "\n"
   ]
  },
  {
   "cell_type": "markdown",
   "metadata": {},
   "source": [
    "### Perplexity\n",
    "\n",
    "[Perplexity](https://en.wikipedia.org/wiki/Perplexity), as the name implies, is about the element of surprise. Again, it is just a fancy word for a monotonic transformation of cross-entropy, widely used in the NLP/LLM community. Having trained an LLM, one wants to see how perplexing the observed data to the LLM. More perplexing the data (higher the cross entropy), less likely is the model to have generated data or put in a more relatable fashion, higher is the additional number of bits needed to code the data."
   ]
  },
  {
   "cell_type": "markdown",
   "metadata": {},
   "source": [
    "Like the recent $\\nu\\text{-information}$ criteria, cross-entropy and other information-theoretic metrics such as the KL-divergence are also  used to study LLM performance. For example, in [The Unlocking Spell on Base LLMs: Rethinking Alignment via In-Context Learning](https://arxiv.org/abs/2312.01552), token distributions are compared. Multiple metrics such as KL-divergence, Jaccard Similarity, among others, are implemented [see code](https://github.com/Re-Align/AlignTDS). Using these metrics, they showed that LLM Alignment via RLHF mostly did stylistic modifications to the output than it did to the _factual_ content."
   ]
  },
  {
   "cell_type": "markdown",
   "metadata": {},
   "source": [
    "Once log-likelihood is available, perplexity can be calculates as\n",
    "$$\n",
    "\\text{perplexity} = 2^{H(P,Q)}\n",
    "$$\n",
    "where $P$ is the true distribution and $Q$ is the distribution under proposed model. Since true $P$ is unknown, we often replace it with its empirical version. When a model is fit, the log-likelhood is an estimate of the negative cross-entropy. Therefore,\n",
    "$$\n",
    "\\text{perplexity} = 2^{-\\log \\hat{\\ell}(M; D)}\n",
    "$$ where $M$ is the model under consideration.\n",
    "\n",
    "It is possible to compute cross-entropy between two models, where $P$ takes the role of a reference distribution and $Q$ takes the role of a probing model. Note that, this metric is no symmetric in $P$ and $Q$."
   ]
  }
 ],
 "metadata": {
  "kernelspec": {
   "display_name": "ai839",
   "language": "python",
   "name": "python3"
  },
  "language_info": {
   "codemirror_mode": {
    "name": "ipython",
    "version": 3
   },
   "file_extension": ".py",
   "mimetype": "text/x-python",
   "name": "python",
   "nbconvert_exporter": "python",
   "pygments_lexer": "ipython3",
   "version": "3.10.0"
  }
 },
 "nbformat": 4,
 "nbformat_minor": 2
}
